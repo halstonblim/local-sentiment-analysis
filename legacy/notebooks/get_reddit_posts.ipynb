{
 "cells": [
  {
   "cell_type": "markdown",
   "id": "cd7cd219-f1c6-4b80-be8b-d3fcb7940036",
   "metadata": {},
   "source": [
    "# Get Reddit posts using PRAW API "
   ]
  },
  {
   "cell_type": "markdown",
   "id": "faeefdbe-1d70-4fe2-b679-120eae6e12ad",
   "metadata": {},
   "source": [
    "### Imports"
   ]
  },
  {
   "cell_type": "code",
   "execution_count": 35,
   "id": "4e3a133b-e2db-49dc-a40b-30a27ec82538",
   "metadata": {
    "execution": {
     "iopub.execute_input": "2025-04-12T16:23:08.855403Z",
     "iopub.status.busy": "2025-04-12T16:23:08.855403Z",
     "iopub.status.idle": "2025-04-12T16:23:08.858510Z",
     "shell.execute_reply": "2025-04-12T16:23:08.858510Z",
     "shell.execute_reply.started": "2025-04-12T16:23:08.855403Z"
    }
   },
   "outputs": [],
   "source": [
    "import os, time, pytz\n",
    "import tqdm\n",
    "import pandas as pd\n",
    "from dotenv import load_dotenv\n",
    "from datetime import datetime, timedelta\n",
    "import praw"
   ]
  },
  {
   "cell_type": "code",
   "execution_count": 36,
   "id": "9f392243-23d7-4462-a66a-9680290357af",
   "metadata": {
    "execution": {
     "iopub.execute_input": "2025-04-12T16:23:09.183799Z",
     "iopub.status.busy": "2025-04-12T16:23:09.183799Z",
     "iopub.status.idle": "2025-04-12T16:23:09.201366Z",
     "shell.execute_reply": "2025-04-12T16:23:09.201366Z",
     "shell.execute_reply.started": "2025-04-12T16:23:09.183799Z"
    }
   },
   "outputs": [
    {
     "data": {
      "text/plain": [
       "True"
      ]
     },
     "execution_count": 36,
     "metadata": {},
     "output_type": "execute_result"
    }
   ],
   "source": [
    "load_dotenv()"
   ]
  },
  {
   "cell_type": "markdown",
   "id": "c667a02d-08f5-49e4-a99b-dfc9289d278a",
   "metadata": {},
   "source": [
    "### Client and config"
   ]
  },
  {
   "cell_type": "code",
   "execution_count": 46,
   "id": "799a8e17-105b-4bed-803f-6ad10b7d0326",
   "metadata": {
    "execution": {
     "iopub.execute_input": "2025-04-12T16:24:43.085237Z",
     "iopub.status.busy": "2025-04-12T16:24:43.085237Z",
     "iopub.status.idle": "2025-04-12T16:24:43.090320Z",
     "shell.execute_reply": "2025-04-12T16:24:43.090320Z",
     "shell.execute_reply.started": "2025-04-12T16:24:43.085237Z"
    }
   },
   "outputs": [],
   "source": [
    "PROJ_PATH = \"D:/Projects/reddit_sentiment/\""
   ]
  },
  {
   "cell_type": "code",
   "execution_count": 47,
   "id": "cf208ba7-5456-4206-9569-5f1d4c3d63c1",
   "metadata": {
    "execution": {
     "iopub.execute_input": "2025-04-12T16:24:45.143997Z",
     "iopub.status.busy": "2025-04-12T16:24:45.143997Z",
     "iopub.status.idle": "2025-04-12T16:24:45.148192Z",
     "shell.execute_reply": "2025-04-12T16:24:45.148192Z",
     "shell.execute_reply.started": "2025-04-12T16:24:45.143997Z"
    }
   },
   "outputs": [],
   "source": [
    "reddit = praw.Reddit(\n",
    "    client_id=os.getenv(\"REDDIT_CLIENT_ID\"),\n",
    "    client_secret=os.getenv(\"REDDIT_CLIENT_SECRET\"),\n",
    "    user_agent=os.getenv(\"REDDIT_USER_AGENT\")\n",
    ")"
   ]
  },
  {
   "cell_type": "code",
   "execution_count": 48,
   "id": "e5d91f94-307a-4a97-acef-1ae6e22afa15",
   "metadata": {
    "execution": {
     "iopub.execute_input": "2025-04-12T16:24:45.383670Z",
     "iopub.status.busy": "2025-04-12T16:24:45.383154Z",
     "iopub.status.idle": "2025-04-12T16:24:45.386952Z",
     "shell.execute_reply": "2025-04-12T16:24:45.386952Z",
     "shell.execute_reply.started": "2025-04-12T16:24:45.383670Z"
    }
   },
   "outputs": [],
   "source": [
    "# --- Config ---\n",
    "subreddit_name = \"apple\"\n",
    "keyword = None  # or set to something like \"M3 chip\"\n",
    "overwrite = True"
   ]
  },
  {
   "cell_type": "markdown",
   "id": "80066995-367e-43dc-aa96-c3ae55d12504",
   "metadata": {},
   "source": [
    "### Request posts\n",
    "\n",
    "To load top comments, you can iterate through submission.comments\n",
    "\n",
    "```\n",
    "for comment in submission.comments:\n",
    "    if isinstance(comment, praw.models.Comment):\n",
    "        records.append({\n",
    "            \"subreddit\": subreddit_name,\n",
    "            \"created_at\": datetime.fromtimestamp(comment.created_utc, tz=ct),\n",
    "            \"retrieved_at\": retrieved_at,\n",
    "            \"type\": \"comment\",\n",
    "            \"text\": comment.body,\n",
    "            \"score\": comment.score,\n",
    "            \"num_comments\": None\n",
    "        })\n",
    "```"
   ]
  },
  {
   "cell_type": "code",
   "execution_count": 49,
   "id": "eefe026a-9b4a-4125-858f-a3361bd58868",
   "metadata": {
    "execution": {
     "iopub.execute_input": "2025-04-12T16:24:46.264175Z",
     "iopub.status.busy": "2025-04-12T16:24:46.263111Z",
     "iopub.status.idle": "2025-04-12T16:24:57.541649Z",
     "shell.execute_reply": "2025-04-12T16:24:57.541649Z",
     "shell.execute_reply.started": "2025-04-12T16:24:46.264175Z"
    }
   },
   "outputs": [
    {
     "name": "stderr",
     "output_type": "stream",
     "text": [
      "Processing posts: 100%|████████████████████████████████████████████████████████████| 1000/1000 [00:11<00:00, 88.71it/s]\n"
     ]
    }
   ],
   "source": [
    "# 📅 Local time setup (US Central Time)\n",
    "ct = pytz.timezone(\"US/Central\")\n",
    "retrieved_at = datetime.now(ct)\n",
    "\n",
    "records = []\n",
    "subreddit = reddit.subreddit(subreddit_name)\n",
    "\n",
    "for submission in tqdm.tqdm(subreddit.top(time_filter=\"year\", limit=1000), total=1000, desc=\"Processing posts\"):\n",
    "    # Add post\n",
    "    records.append({\n",
    "        \"subreddit\": subreddit_name,\n",
    "        \"created_at\": datetime.fromtimestamp(submission.created_utc, tz=ct),\n",
    "        \"retrieved_at\": retrieved_at,\n",
    "        \"type\": \"post\",\n",
    "        \"text\": submission.title + \"\\n\\n\" + submission.selftext,\n",
    "        \"score\": submission.score,\n",
    "        \"num_comments\": submission.num_comments\n",
    "    })"
   ]
  },
  {
   "cell_type": "code",
   "execution_count": 50,
   "id": "cc04513e-fb0e-49b5-b0e9-6237fcbcfb2c",
   "metadata": {
    "execution": {
     "iopub.execute_input": "2025-04-12T16:24:58.134123Z",
     "iopub.status.busy": "2025-04-12T16:24:58.134123Z",
     "iopub.status.idle": "2025-04-12T16:24:58.154801Z",
     "shell.execute_reply": "2025-04-12T16:24:58.154801Z",
     "shell.execute_reply.started": "2025-04-12T16:24:58.134123Z"
    }
   },
   "outputs": [
    {
     "data": {
      "text/plain": [
       "min    2024-04-09 09:37:51-05:00\n",
       "max    2024-12-19 13:32:28-06:00\n",
       "Name: created_at, dtype: object"
      ]
     },
     "execution_count": 50,
     "metadata": {},
     "output_type": "execute_result"
    }
   ],
   "source": [
    "# Create DataFrame\n",
    "df = pd.DataFrame(records)\n",
    "df.created_at.describe().loc[['min','max']]"
   ]
  },
  {
   "cell_type": "code",
   "execution_count": 51,
   "id": "fa4929c8-92f3-42bb-9bd4-67e5c12a720c",
   "metadata": {
    "execution": {
     "iopub.execute_input": "2025-04-12T16:24:58.625096Z",
     "iopub.status.busy": "2025-04-12T16:24:58.625096Z",
     "iopub.status.idle": "2025-04-12T16:24:58.632998Z",
     "shell.execute_reply": "2025-04-12T16:24:58.632998Z",
     "shell.execute_reply.started": "2025-04-12T16:24:58.625096Z"
    }
   },
   "outputs": [
    {
     "name": "stdout",
     "output_type": "stream",
     "text": [
      "Revealed: Complete iPhone 16 Pro and iPhone 16 Pro Max Dimensions\n",
      "\n",
      "\n"
     ]
    }
   ],
   "source": [
    "print(df.text.sample(1).item())"
   ]
  },
  {
   "cell_type": "markdown",
   "id": "d2e7e131-3320-4aae-9f1d-d97de7850f50",
   "metadata": {},
   "source": [
    "### Persist"
   ]
  },
  {
   "cell_type": "code",
   "execution_count": 52,
   "id": "9d1db4e7-8fe4-44cb-a6eb-47c78c368a6e",
   "metadata": {
    "execution": {
     "iopub.execute_input": "2025-04-12T16:25:10.364112Z",
     "iopub.status.busy": "2025-04-12T16:25:10.363097Z",
     "iopub.status.idle": "2025-04-12T16:25:10.385511Z",
     "shell.execute_reply": "2025-04-12T16:25:10.384864Z",
     "shell.execute_reply.started": "2025-04-12T16:25:10.364112Z"
    }
   },
   "outputs": [
    {
     "name": "stdout",
     "output_type": "stream",
     "text": [
      "Saved 1000 entries to D:/Projects/reddit_sentiment/reddit_data/apple_2025-04-12.csv\n"
     ]
    }
   ],
   "source": [
    "# Save locally and append if exists\n",
    "folder = PROJ_PATH + \"reddit_data\"\n",
    "os.makedirs(folder, exist_ok=True)\n",
    "filename = f\"{folder}/{subreddit_name}_{retrieved_at.strftime('%Y-%m-%d')}.csv\"\n",
    "\n",
    "if (not overwrite) and os.path.exists(filename):\n",
    "    existing = pd.read_csv(filename)\n",
    "    df = pd.concat([existing, df], ignore_index=True)\n",
    "\n",
    "df.to_csv(filename, index=False)\n",
    "print(f\"Saved {len(df)} entries to {filename}\")"
   ]
  },
  {
   "cell_type": "markdown",
   "id": "8c36b52b-d742-4dd0-8462-a1f5b0e945c1",
   "metadata": {},
   "source": [
    "### Rate Limits"
   ]
  },
  {
   "cell_type": "code",
   "execution_count": 53,
   "id": "2cb8b677-1248-4389-a8a7-0687cd14a087",
   "metadata": {
    "execution": {
     "iopub.execute_input": "2025-04-12T16:25:24.653059Z",
     "iopub.status.busy": "2025-04-12T16:25:24.653059Z",
     "iopub.status.idle": "2025-04-12T16:25:24.658303Z",
     "shell.execute_reply": "2025-04-12T16:25:24.658303Z",
     "shell.execute_reply.started": "2025-04-12T16:25:24.653059Z"
    }
   },
   "outputs": [
    {
     "name": "stdout",
     "output_type": "stream",
     "text": [
      "🔄 Reddit API Rate Limit Info\n",
      "Requests used:      30\n",
      "Requests remaining: 970.0\n",
      "Resets at:          2025-04-12 11:30:00 (276 seconds from now)\n"
     ]
    }
   ],
   "source": [
    "# Extract and format rate limit info\n",
    "limits = reddit.auth.limits\n",
    "used = limits['used']\n",
    "remaining = limits['remaining']\n",
    "reset_ts = limits['reset_timestamp']\n",
    "current_ts = time.time()\n",
    "seconds_until_reset = round(reset_ts - current_ts)\n",
    "\n",
    "# Convert to local time\n",
    "reset_time = datetime.fromtimestamp(reset_ts).strftime('%Y-%m-%d %H:%M:%S')\n",
    "\n",
    "print(f\"🔄 Reddit API Rate Limit Info\")\n",
    "print(f\"Requests used:      {used}\")\n",
    "print(f\"Requests remaining: {remaining}\")\n",
    "print(f\"Resets at:          {reset_time} ({seconds_until_reset} seconds from now)\")"
   ]
  }
 ],
 "metadata": {
  "kernelspec": {
   "display_name": "Python [conda env:reddit]",
   "language": "python",
   "name": "conda-env-reddit-py"
  },
  "language_info": {
   "codemirror_mode": {
    "name": "ipython",
    "version": 3
   },
   "file_extension": ".py",
   "mimetype": "text/x-python",
   "name": "python",
   "nbconvert_exporter": "python",
   "pygments_lexer": "ipython3",
   "version": "3.11.12"
  }
 },
 "nbformat": 4,
 "nbformat_minor": 5
}
